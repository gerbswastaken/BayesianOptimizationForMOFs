{
 "cells": [
  {
   "cell_type": "code",
   "execution_count": 10,
   "id": "552c13c0",
   "metadata": {},
   "outputs": [],
   "source": [
    "#importing and preparing data\n",
    "import numpy as np\n",
    "import pickle\n",
    "import pandas as pd"
   ]
  },
  {
   "cell_type": "code",
   "execution_count": 11,
   "id": "64ef3954",
   "metadata": {},
   "outputs": [],
   "source": [
    "nb_runs       = 50\n",
    "nb_iterations = 100"
   ]
  },
  {
   "cell_type": "code",
   "execution_count": 12,
   "id": "825efc39",
   "metadata": {},
   "outputs": [
    {
     "data": {
      "text/html": [
       "<div>\n",
       "<style scoped>\n",
       "    .dataframe tbody tr th:only-of-type {\n",
       "        vertical-align: middle;\n",
       "    }\n",
       "\n",
       "    .dataframe tbody tr th {\n",
       "        vertical-align: top;\n",
       "    }\n",
       "\n",
       "    .dataframe thead th {\n",
       "        text-align: right;\n",
       "    }\n",
       "</style>\n",
       "<table border=\"1\" class=\"dataframe\">\n",
       "  <thead>\n",
       "    <tr style=\"text-align: right;\">\n",
       "      <th></th>\n",
       "      <th>_id</th>\n",
       "      <th>Name</th>\n",
       "      <th>CSD refc.</th>\n",
       "      <th>DB Acr.</th>\n",
       "      <th>GT</th>\n",
       "      <th>Calc. Type</th>\n",
       "      <th>Density</th>\n",
       "      <th>GSA</th>\n",
       "      <th>VSA</th>\n",
       "      <th>VF</th>\n",
       "      <th>PV</th>\n",
       "      <th>LCD</th>\n",
       "      <th>PLD</th>\n",
       "      <th>UG at PS</th>\n",
       "      <th>UV at PS</th>\n",
       "      <th>Source</th>\n",
       "      <th>CSFT</th>\n",
       "      <th>CSA</th>\n",
       "    </tr>\n",
       "  </thead>\n",
       "  <tbody>\n",
       "    <tr>\n",
       "      <th>0</th>\n",
       "      <td>1</td>\n",
       "      <td>DAKXOE_CSD17</td>\n",
       "      <td>DAKXOE</td>\n",
       "      <td>CSD17</td>\n",
       "      <td>Real</td>\n",
       "      <td>Grand Canonical Monte Carlo</td>\n",
       "      <td>0.24</td>\n",
       "      <td>7697.77</td>\n",
       "      <td>1871.97</td>\n",
       "      <td>0.90</td>\n",
       "      <td>3.72</td>\n",
       "      <td>12.42</td>\n",
       "      <td>10.55</td>\n",
       "      <td>13.35</td>\n",
       "      <td>39.89</td>\n",
       "      <td>DOI: 10.1021/acs.chemmater.7b00441</td>\n",
       "      <td>CIF (Not P1 Symmetry)</td>\n",
       "      <td>Not open source</td>\n",
       "    </tr>\n",
       "    <tr>\n",
       "      <th>1</th>\n",
       "      <td>2</td>\n",
       "      <td>ENAPAL_CSD17</td>\n",
       "      <td>ENAPAL</td>\n",
       "      <td>CSD17</td>\n",
       "      <td>Real</td>\n",
       "      <td>Grand Canonical Monte Carlo</td>\n",
       "      <td>0.48</td>\n",
       "      <td>6108.18</td>\n",
       "      <td>2920.11</td>\n",
       "      <td>0.86</td>\n",
       "      <td>1.80</td>\n",
       "      <td>8.42</td>\n",
       "      <td>7.34</td>\n",
       "      <td>7.36</td>\n",
       "      <td>39.88</td>\n",
       "      <td>DOI: 10.1021/acs.chemmater.7b00441</td>\n",
       "      <td>CIF (Not P1 Symmetry)</td>\n",
       "      <td>Not open source</td>\n",
       "    </tr>\n",
       "    <tr>\n",
       "      <th>2</th>\n",
       "      <td>3</td>\n",
       "      <td>BIVVEI_CSD17</td>\n",
       "      <td>BIVVEI</td>\n",
       "      <td>CSD17</td>\n",
       "      <td>Real</td>\n",
       "      <td>Grand Canonical Monte Carlo</td>\n",
       "      <td>0.37</td>\n",
       "      <td>6827.24</td>\n",
       "      <td>2544.55</td>\n",
       "      <td>0.89</td>\n",
       "      <td>2.39</td>\n",
       "      <td>11.40</td>\n",
       "      <td>10.01</td>\n",
       "      <td>9.28</td>\n",
       "      <td>39.79</td>\n",
       "      <td>DOI: 10.1021/acs.chemmater.7b00441</td>\n",
       "      <td>CIF (Not P1 Symmetry)</td>\n",
       "      <td>Not open source</td>\n",
       "    </tr>\n",
       "    <tr>\n",
       "      <th>3</th>\n",
       "      <td>4</td>\n",
       "      <td>str_m3_o20_o20_f0_pcu.sym.1.out</td>\n",
       "      <td>Not applicable</td>\n",
       "      <td>UO</td>\n",
       "      <td>Hypothetical</td>\n",
       "      <td>Grand Canonical Monte Carlo</td>\n",
       "      <td>0.32</td>\n",
       "      <td>5637.21</td>\n",
       "      <td>1811.42</td>\n",
       "      <td>0.88</td>\n",
       "      <td>2.75</td>\n",
       "      <td>16.19</td>\n",
       "      <td>10.93</td>\n",
       "      <td>10.44</td>\n",
       "      <td>39.70</td>\n",
       "      <td>https://doi.org/10.1002/ejic.201600365</td>\n",
       "      <td>CIF (P1 Symmetry)</td>\n",
       "      <td>DOI: 10.24435/materialscloud:2018.0016/v2</td>\n",
       "    </tr>\n",
       "    <tr>\n",
       "      <th>4</th>\n",
       "      <td>5</td>\n",
       "      <td>mof_5399</td>\n",
       "      <td>Not applicable</td>\n",
       "      <td>ToBaCCo</td>\n",
       "      <td>Hypothetical</td>\n",
       "      <td>Grand Canonical Monte Carlo</td>\n",
       "      <td>0.33</td>\n",
       "      <td>5777.00</td>\n",
       "      <td>1935.00</td>\n",
       "      <td>0.89</td>\n",
       "      <td>2.61</td>\n",
       "      <td>16.30</td>\n",
       "      <td>12.20</td>\n",
       "      <td>9.97</td>\n",
       "      <td>39.66</td>\n",
       "      <td>DOI: 10.1021/acs.cgd.7b00848</td>\n",
       "      <td>CIF (P1 Symmetry)</td>\n",
       "      <td>Open Source (https://github.com/tobacco-mofs/t...</td>\n",
       "    </tr>\n",
       "  </tbody>\n",
       "</table>\n",
       "</div>"
      ],
      "text/plain": [
       "   _id                             Name       CSD refc.  DB Acr.  \\\n",
       "0    1                     DAKXOE_CSD17          DAKXOE    CSD17   \n",
       "1    2                     ENAPAL_CSD17          ENAPAL    CSD17   \n",
       "2    3                     BIVVEI_CSD17          BIVVEI    CSD17   \n",
       "3    4  str_m3_o20_o20_f0_pcu.sym.1.out  Not applicable       UO   \n",
       "4    5                         mof_5399  Not applicable  ToBaCCo   \n",
       "\n",
       "             GT                   Calc. Type  Density      GSA      VSA    VF  \\\n",
       "0          Real  Grand Canonical Monte Carlo     0.24  7697.77  1871.97  0.90   \n",
       "1          Real  Grand Canonical Monte Carlo     0.48  6108.18  2920.11  0.86   \n",
       "2          Real  Grand Canonical Monte Carlo     0.37  6827.24  2544.55  0.89   \n",
       "3  Hypothetical  Grand Canonical Monte Carlo     0.32  5637.21  1811.42  0.88   \n",
       "4  Hypothetical  Grand Canonical Monte Carlo     0.33  5777.00  1935.00  0.89   \n",
       "\n",
       "     PV    LCD    PLD  UG at PS  UV at PS  \\\n",
       "0  3.72  12.42  10.55     13.35     39.89   \n",
       "1  1.80   8.42   7.34      7.36     39.88   \n",
       "2  2.39  11.40  10.01      9.28     39.79   \n",
       "3  2.75  16.19  10.93     10.44     39.70   \n",
       "4  2.61  16.30  12.20      9.97     39.66   \n",
       "\n",
       "                                    Source                   CSFT  \\\n",
       "0       DOI: 10.1021/acs.chemmater.7b00441  CIF (Not P1 Symmetry)   \n",
       "1       DOI: 10.1021/acs.chemmater.7b00441  CIF (Not P1 Symmetry)   \n",
       "2       DOI: 10.1021/acs.chemmater.7b00441  CIF (Not P1 Symmetry)   \n",
       "3   https://doi.org/10.1002/ejic.201600365      CIF (P1 Symmetry)   \n",
       "4             DOI: 10.1021/acs.cgd.7b00848      CIF (P1 Symmetry)   \n",
       "\n",
       "                                                 CSA  \n",
       "0                                    Not open source  \n",
       "1                                    Not open source  \n",
       "2                                    Not open source  \n",
       "3          DOI: 10.24435/materialscloud:2018.0016/v2  \n",
       "4  Open Source (https://github.com/tobacco-mofs/t...  "
      ]
     },
     "execution_count": 12,
     "metadata": {},
     "output_type": "execute_result"
    }
   ],
   "source": [
    "df = pd.read_csv('hydrogen_gcmc_data.csv')\n",
    "df.head()"
   ]
  },
  {
   "cell_type": "code",
   "execution_count": 13,
   "id": "b025ecb9",
   "metadata": {},
   "outputs": [
    {
     "name": "stdout",
     "output_type": "stream",
     "text": [
      "7\n"
     ]
    }
   ],
   "source": [
    "# extracting the useful features for inputs to a function\n",
    "features = ['Density', 'GSA', 'VSA', 'VF', 'PV', 'LCD', 'PLD']\n",
    "print(len(features))"
   ]
  },
  {
   "cell_type": "code",
   "execution_count": 14,
   "id": "e90eadad",
   "metadata": {},
   "outputs": [
    {
     "name": "stdout",
     "output_type": "stream",
     "text": [
      "Shape of Y:  (98694,)\n",
      "[13.35  7.36  9.28 ...  0.    0.    0.  ]\n"
     ]
    }
   ],
   "source": [
    "# extracting the GCMC calculated values \n",
    "# There are two quantities we can use: UG at PS or UV at PS\n",
    "y = df['UG at PS'].values\n",
    "print('Shape of Y: ', np.shape(y))\n",
    "print(y) "
   ]
  },
  {
   "cell_type": "code",
   "execution_count": 15,
   "id": "8b4a5c26",
   "metadata": {},
   "outputs": [
    {
     "name": "stdout",
     "output_type": "stream",
     "text": [
      "Shape of X:  (98694, 7)\n",
      "[[2.40000e-01 7.69777e+03 1.87197e+03 ... 3.72000e+00 1.24200e+01\n",
      "  1.05500e+01]\n",
      " [4.80000e-01 6.10818e+03 2.92011e+03 ... 1.80000e+00 8.42000e+00\n",
      "  7.34000e+00]\n",
      " [3.70000e-01 6.82724e+03 2.54455e+03 ... 2.39000e+00 1.14000e+01\n",
      "  1.00100e+01]\n",
      " ...\n",
      " [1.43000e+00 0.00000e+00 0.00000e+00 ... 2.70000e-01 2.56000e+00\n",
      "  1.54000e+00]\n",
      " [1.67000e+00 0.00000e+00 0.00000e+00 ... 1.70000e-01 2.14000e+00\n",
      "  1.30000e+00]\n",
      " [3.46000e+00 0.00000e+00 0.00000e+00 ... 8.00000e-02 3.52000e+00\n",
      "  9.50000e-01]]\n"
     ]
    }
   ],
   "source": [
    "x = df[features].values\n",
    "print('Shape of X: ', np.shape(x))\n",
    "print(x)"
   ]
  },
  {
   "cell_type": "code",
   "execution_count": 16,
   "id": "62f9c0dc",
   "metadata": {},
   "outputs": [
    {
     "name": "stdout",
     "output_type": "stream",
     "text": [
      "feature 0  in [ 0.0 , 1.0 ]\n",
      "feature 1  in [ 0.0 , 1.0 ]\n",
      "feature 2  in [ 0.0 , 1.0 ]\n",
      "feature 3  in [ 0.0 , 1.0 ]\n",
      "feature 4  in [ 0.0 , 1.0 ]\n",
      "feature 5  in [ 0.0 , 1.0 ]\n",
      "feature 6  in [ 0.0 , 1.0 ]\n",
      "[[0.0407767  0.78951487 0.46857588 ... 0.10411419 0.16837523 0.14755245]\n",
      " [0.08737864 0.62648    0.73093752 ... 0.05037783 0.11220334 0.10265734]\n",
      " [0.06601942 0.70022974 0.63693048 ... 0.06689057 0.1540514  0.14      ]\n",
      " ...\n",
      " [0.27184466 0.         0.         ... 0.00755668 0.02991153 0.02153846]\n",
      " [0.3184466  0.         0.         ... 0.00475791 0.02401348 0.01818182]\n",
      " [0.66601942 0.         0.         ... 0.00223901 0.04339278 0.01328671]]\n"
     ]
    }
   ],
   "source": [
    "# We need to normalize all of these values\n",
    "for i in range(np.shape(x)[1]):\n",
    "    x[:, i] = (x[:, i] - np.min(x[:, i])) / (np.max(x[:, i]) - np.min(x[:, i]))\n",
    "    print(\"feature\", i, \" in [\", np.min(x[:, i]), \",\", np.max(x[:, i]), \"]\")\n",
    "\n",
    "print(x)"
   ]
  },
  {
   "cell_type": "code",
   "execution_count": 17,
   "id": "cdfbda4d",
   "metadata": {},
   "outputs": [
    {
     "name": "stdout",
     "output_type": "stream",
     "text": [
      "['DAKXOE_CSD17' 'ENAPAL_CSD17' 'BIVVEI_CSD17' ...\n",
      " 'str_m9_o22_o22_f0_sra.sym.87.out' 'str_m9_o5_o2_f0_sra.sym.37.out'\n",
      " 'str_m9_o5_o2_f0_sra.sym.95.out']\n"
     ]
    }
   ],
   "source": [
    "# We need to also assign names to each COF:\n",
    "names = df['Name'].values\n",
    "print(names)"
   ]
  },
  {
   "cell_type": "code",
   "execution_count": 18,
   "id": "7d06b16d",
   "metadata": {},
   "outputs": [],
   "source": [
    "with open('hydrogen_input_output.pkl', 'wb') as file:\n",
    "    pickle.dump({'x': x, 'y': y, 'features': features, 'names': names, 'nb_COFs': np.size(y), 'nb_runs': nb_runs, 'nb_iterations': nb_iterations}, file)"
   ]
  },
  {
   "cell_type": "code",
   "execution_count": null,
   "id": "93fcbc36",
   "metadata": {},
   "outputs": [],
   "source": []
  }
 ],
 "metadata": {
  "kernelspec": {
   "display_name": "Python 3",
   "language": "python",
   "name": "python3"
  },
  "language_info": {
   "codemirror_mode": {
    "name": "ipython",
    "version": 3
   },
   "file_extension": ".py",
   "mimetype": "text/x-python",
   "name": "python",
   "nbconvert_exporter": "python",
   "pygments_lexer": "ipython3",
   "version": "3.8.12"
  }
 },
 "nbformat": 4,
 "nbformat_minor": 5
}
